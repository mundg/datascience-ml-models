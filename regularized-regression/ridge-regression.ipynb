{
 "cells": [
  {
   "cell_type": "markdown",
   "metadata": {},
   "source": [
    "### Regularized Regression (Ridge)"
   ]
  },
  {
   "cell_type": "code",
   "execution_count": 92,
   "metadata": {
    "vscode": {
     "languageId": "r"
    }
   },
   "outputs": [],
   "source": [
    "library(ggplot2)\n",
    "library(dplyr)\n",
    "library(glmnet)"
   ]
  },
  {
   "cell_type": "code",
   "execution_count": 93,
   "metadata": {
    "vscode": {
     "languageId": "r"
    }
   },
   "outputs": [
    {
     "data": {
      "text/html": [
       "<table>\n",
       "<thead><tr><th></th><th scope=col>mpg</th><th scope=col>cyl</th><th scope=col>disp</th><th scope=col>hp</th><th scope=col>drat</th><th scope=col>wt</th><th scope=col>qsec</th><th scope=col>vs</th><th scope=col>am</th><th scope=col>gear</th><th scope=col>carb</th></tr></thead>\n",
       "<tbody>\n",
       "\t<tr><th scope=row>Mazda RX4</th><td>21.0 </td><td>6    </td><td>160  </td><td>110  </td><td>3.90 </td><td>2.620</td><td>16.46</td><td>0    </td><td>1    </td><td>4    </td><td>4    </td></tr>\n",
       "\t<tr><th scope=row>Mazda RX4 Wag</th><td>21.0 </td><td>6    </td><td>160  </td><td>110  </td><td>3.90 </td><td>2.875</td><td>17.02</td><td>0    </td><td>1    </td><td>4    </td><td>4    </td></tr>\n",
       "\t<tr><th scope=row>Datsun 710</th><td>22.8 </td><td>4    </td><td>108  </td><td> 93  </td><td>3.85 </td><td>2.320</td><td>18.61</td><td>1    </td><td>1    </td><td>4    </td><td>1    </td></tr>\n",
       "\t<tr><th scope=row>Hornet 4 Drive</th><td>21.4 </td><td>6    </td><td>258  </td><td>110  </td><td>3.08 </td><td>3.215</td><td>19.44</td><td>1    </td><td>0    </td><td>3    </td><td>1    </td></tr>\n",
       "\t<tr><th scope=row>Hornet Sportabout</th><td>18.7 </td><td>8    </td><td>360  </td><td>175  </td><td>3.15 </td><td>3.440</td><td>17.02</td><td>0    </td><td>0    </td><td>3    </td><td>2    </td></tr>\n",
       "\t<tr><th scope=row>Valiant</th><td>18.1 </td><td>6    </td><td>225  </td><td>105  </td><td>2.76 </td><td>3.460</td><td>20.22</td><td>1    </td><td>0    </td><td>3    </td><td>1    </td></tr>\n",
       "</tbody>\n",
       "</table>\n"
      ],
      "text/latex": [
       "\\begin{tabular}{r|lllllllllll}\n",
       "  & mpg & cyl & disp & hp & drat & wt & qsec & vs & am & gear & carb\\\\\n",
       "\\hline\n",
       "\tMazda RX4 & 21.0  & 6     & 160   & 110   & 3.90  & 2.620 & 16.46 & 0     & 1     & 4     & 4    \\\\\n",
       "\tMazda RX4 Wag & 21.0  & 6     & 160   & 110   & 3.90  & 2.875 & 17.02 & 0     & 1     & 4     & 4    \\\\\n",
       "\tDatsun 710 & 22.8  & 4     & 108   &  93   & 3.85  & 2.320 & 18.61 & 1     & 1     & 4     & 1    \\\\\n",
       "\tHornet 4 Drive & 21.4  & 6     & 258   & 110   & 3.08  & 3.215 & 19.44 & 1     & 0     & 3     & 1    \\\\\n",
       "\tHornet Sportabout & 18.7  & 8     & 360   & 175   & 3.15  & 3.440 & 17.02 & 0     & 0     & 3     & 2    \\\\\n",
       "\tValiant & 18.1  & 6     & 225   & 105   & 2.76  & 3.460 & 20.22 & 1     & 0     & 3     & 1    \\\\\n",
       "\\end{tabular}\n"
      ],
      "text/markdown": [
       "\n",
       "| <!--/--> | mpg | cyl | disp | hp | drat | wt | qsec | vs | am | gear | carb |\n",
       "|---|---|---|---|---|---|---|---|---|---|---|---|\n",
       "| Mazda RX4 | 21.0  | 6     | 160   | 110   | 3.90  | 2.620 | 16.46 | 0     | 1     | 4     | 4     |\n",
       "| Mazda RX4 Wag | 21.0  | 6     | 160   | 110   | 3.90  | 2.875 | 17.02 | 0     | 1     | 4     | 4     |\n",
       "| Datsun 710 | 22.8  | 4     | 108   |  93   | 3.85  | 2.320 | 18.61 | 1     | 1     | 4     | 1     |\n",
       "| Hornet 4 Drive | 21.4  | 6     | 258   | 110   | 3.08  | 3.215 | 19.44 | 1     | 0     | 3     | 1     |\n",
       "| Hornet Sportabout | 18.7  | 8     | 360   | 175   | 3.15  | 3.440 | 17.02 | 0     | 0     | 3     | 2     |\n",
       "| Valiant | 18.1  | 6     | 225   | 105   | 2.76  | 3.460 | 20.22 | 1     | 0     | 3     | 1     |\n",
       "\n"
      ],
      "text/plain": [
       "                  mpg  cyl disp hp  drat wt    qsec  vs am gear carb\n",
       "Mazda RX4         21.0 6   160  110 3.90 2.620 16.46 0  1  4    4   \n",
       "Mazda RX4 Wag     21.0 6   160  110 3.90 2.875 17.02 0  1  4    4   \n",
       "Datsun 710        22.8 4   108   93 3.85 2.320 18.61 1  1  4    1   \n",
       "Hornet 4 Drive    21.4 6   258  110 3.08 3.215 19.44 1  0  3    1   \n",
       "Hornet Sportabout 18.7 8   360  175 3.15 3.440 17.02 0  0  3    2   \n",
       "Valiant           18.1 6   225  105 2.76 3.460 20.22 1  0  3    1   "
      ]
     },
     "metadata": {},
     "output_type": "display_data"
    }
   ],
   "source": [
    "df <- mtcars\n",
    "head(df,6)"
   ]
  },
  {
   "cell_type": "code",
   "execution_count": 94,
   "metadata": {
    "vscode": {
     "languageId": "r"
    }
   },
   "outputs": [
    {
     "data": {
      "image/png": "[encoded data removed]",
      "text/plain": [
       "plot without title"
      ]
     },
     "metadata": {},
     "output_type": "display_data"
    }
   ],
   "source": [
    "plot1 <- df %>%\n",
    "  ggplot(aes(x=disp,y=mpg)) +\n",
    "  geom_point(col='blue') +\n",
    "  theme_classic() + \n",
    "  xlab('horsepower') +\n",
    "  ylab('Miles per gallon (US)') \n",
    "plot1 "
   ]
  },
  {
   "cell_type": "markdown",
   "metadata": {},
   "source": [
    "Turns out that there might be a polynomial relationship between mpg & displacement."
   ]
  },
  {
   "cell_type": "code",
   "execution_count": 95,
   "metadata": {
    "vscode": {
     "languageId": "r"
    }
   },
   "outputs": [
    {
     "data": {
      "image/png": "[encoded data removed]",
      "text/plain": [
       "plot without title"
      ]
     },
     "metadata": {},
     "output_type": "display_data"
    }
   ],
   "source": [
    "# Suppose we fit a higher degree of polynomial in our model\n",
    "plot1 + stat_smooth(method = 'lm', se = TRUE, formula = y ~ poly(x,5), col = 'red')\n"
   ]
  },
  {
   "cell_type": "code",
   "execution_count": 96,
   "metadata": {
    "vscode": {
     "languageId": "r"
    }
   },
   "outputs": [
    {
     "data": {
      "text/plain": [
       "\n",
       "Call:\n",
       "lm(formula = mpg ~ poly(disp, degree = 5), data = df)\n",
       "\n",
       "Residuals:\n",
       "    Min      1Q  Median      3Q     Max \n",
       "-3.2416 -1.6871 -0.2752  1.2114  4.1993 \n",
       "\n",
       "Coefficients:\n",
       "                         Estimate Std. Error t value Pr(>|t|)    \n",
       "(Intercept)              20.09062    0.37689  53.306  < 2e-16 ***\n",
       "poly(disp, degree = 5)1 -28.44097    2.13203 -13.340 3.88e-13 ***\n",
       "poly(disp, degree = 5)2   9.15235    2.13203   4.293 0.000217 ***\n",
       "poly(disp, degree = 5)3  -9.74460    2.13203  -4.571 0.000104 ***\n",
       "poly(disp, degree = 5)4  -0.01148    2.13203  -0.005 0.995745    \n",
       "poly(disp, degree = 5)5  -4.50020    2.13203  -2.111 0.044566 *  \n",
       "---\n",
       "Signif. codes:  0 '***' 0.001 '**' 0.01 '*' 0.05 '.' 0.1 ' ' 1\n",
       "\n",
       "Residual standard error: 2.132 on 26 degrees of freedom\n",
       "Multiple R-squared:  0.895,\tAdjusted R-squared:  0.8749 \n",
       "F-statistic: 44.35 on 5 and 26 DF,  p-value: 6.504e-12\n"
      ]
     },
     "metadata": {},
     "output_type": "display_data"
    }
   ],
   "source": [
    "# Fitting a poly regression model (deg = 5)\n",
    "mod.reg <- lm(formula = mpg ~ poly(disp,degree = 5), data = df)\n",
    "summary(mod.reg)"
   ]
  },
  {
   "cell_type": "markdown",
   "metadata": {},
   "source": [
    "Fitting a polynomial regression with a degree n = 5, gave us better coefficients that are statistically significant based upon p-value and r-squared.\n"
   ]
  },
  {
   "cell_type": "code",
   "execution_count": 97,
   "metadata": {
    "vscode": {
     "languageId": "r"
    }
   },
   "outputs": [
    {
     "name": "stdout",
     "output_type": "stream",
     "text": [
      "MSE: 5.930802 \n",
      "RMSE: 2.435324"
     ]
    }
   ],
   "source": [
    "# Determining RMSE (model perf.) using LOOCV\n",
    "\n",
    "SE <- numeric(nrow(df))\n",
    "\n",
    "for(i in 1:nrow(df)){\n",
    "  train <- df[-i,]\n",
    "  test <- df[i,]\n",
    "  \n",
    "  poly.mod <- lm(formula = mpg ~ poly(disp,degree = 5) ,train)\n",
    "  poly.pred <- predict(poly.mod,test)\n",
    "  \n",
    "  SE[i] <- (test$mpg - poly.pred )^2\n",
    "}\n",
    "\n",
    "mse.loocv <- mean(SE)\n",
    "cat('MSE:',mse.loocv, '\\nRMSE:',sqrt(mse.loocv))"
   ]
  },
  {
   "cell_type": "markdown",
   "metadata": {},
   "source": [
    "#### Ridge Regression as shrinkage method\n",
    "\n",
    "Initially, we built a model that is more complex than the simple linear regression model. As model complexity increases, it also increases the variance. Shrinkage (regularization) forces all estimates to shrink towards zero relative to estimates.\n",
    "\n",
    "How does this work?\n",
    "\n",
    "In a linear model, we use Residual Sum of Squares (RSS) as measure of the variance in the error term/residuals. What shrinkage does is by having a penalty term in the RSS, it can help control the magnitude of the coefficients.\n",
    "\n",
    "$$RSS = \\sum_{i=1}^{n} (y_i - \\hat{y_i})^2 = \\sum_{i=1}^{n}(y_i - \\beta_0 - \\sum_{j=1}^{p} \\beta_jX_j)^2$$\n",
    "\n",
    "*Adding the penalty term,* $$RSS = \\sum_{i=1}^{n}(y_i - \\beta_0 - \\sum_{j=1}^{p} \\beta_jX_j)^2 + \\lambda \\sum_{j=1}^{p} \\beta_j^2$$\n",
    "\n"
   ]
  },
  {
   "cell_type": "code",
   "execution_count": 98,
   "metadata": {
    "vscode": {
     "languageId": "r"
    }
   },
   "outputs": [
    {
     "data": {
      "image/png": "[encoded data removed]",
      "text/plain": [
       "plot without title"
      ]
     },
     "metadata": {},
     "output_type": "display_data"
    }
   ],
   "source": [
    "# How do we determine the lambda (tuning parameter)? \n",
    "\n",
    "# Arrange data into matrix type\n",
    "poly_disp <- poly(df$disp,5)\n",
    "y <- df[['mpg']]\n",
    "\n",
    "# Determining best lambda\n",
    "lambda_seq <- 10^seq(2,-2, by =-0.11)\n",
    "cvridge.mod <- cv.glmnet(poly_disp, y, alpha = 0 , lambda=lambda_seq)\n",
    "plot(cvridge.mod)"
   ]
  },
  {
   "cell_type": "code",
   "execution_count": 99,
   "metadata": {
    "vscode": {
     "languageId": "r"
    }
   },
   "outputs": [
    {
     "data": {
      "text/plain": [
       "\n",
       "Call:  glmnet(x = poly_disp, y = y, alpha = 0, lambda = best_lambda) \n",
       "\n",
       "     Df   %Dev Lambda\n",
       "[1,]  5 0.8918 0.3802"
      ]
     },
     "metadata": {},
     "output_type": "display_data"
    }
   ],
   "source": [
    "# Applying best lambda\n",
    "best_lambda <- cvridge.mod$lambda.min\n",
    "ridge.mod <- glmnet(poly_disp, y, alpha = 0 , lambda=best_lambda)\n",
    "ridge.mod"
   ]
  },
  {
   "cell_type": "code",
   "execution_count": 100,
   "metadata": {
    "vscode": {
     "languageId": "r"
    }
   },
   "outputs": [
    {
     "name": "stdout",
     "output_type": "stream",
     "text": [
      "MSE: 5.618742 \n",
      "RMSE: 2.370389"
     ]
    }
   ],
   "source": [
    "# Using LOOCV\n",
    "SEridge <- numeric(nrow(df))\n",
    "matrix.df <- cbind(y,poly_disp)\n",
    "\n",
    "for(i in 1:nrow(matrix.df)){\n",
    "  train <- matrix.df[-i,]\n",
    "  test <- matrix.df[i, ]\n",
    "\n",
    "  ridge.mod <- glmnet(train[,-1], train[,1], alpha = 0 , lambda=best_lambda)\n",
    "  ridge.pred <- predict(ridge.mod, newx = as.matrix(t(test[2:6])))\n",
    "\n",
    "  SEridge[i] <- (ridge.pred - test[1])^2\n",
    "\n",
    "}\n",
    "mse.loocvRidge <- mean(SEridge)\n",
    "cat('MSE:',mse.loocvRidge , '\\nRMSE:',sqrt(mse.loocvRidge))"
   ]
  },
  {
   "cell_type": "markdown",
   "metadata": {},
   "source": [
    "Comparing the results earlier from the initial poly model $RMSE = 2.44$ , we got a better $RSME = 2.37$ using the shrinkage method. Therefore, the shrinkage help us achieve a better performance on RMSE.\n"
   ]
  }
 ],
 "metadata": {
  "kernelspec": {
   "display_name": "R",
   "language": "R",
   "name": "ir"
  },
  "language_info": {
   "codemirror_mode": "r",
   "file_extension": ".r",
   "mimetype": "text/x-r-source",
   "name": "R",
   "pygments_lexer": "r",
   "version": "3.6.1"
  }
 },
 "nbformat": 4,
 "nbformat_minor": 2
}
